{
  "nbformat": 4,
  "nbformat_minor": 0,
  "metadata": {
    "colab": {
      "provenance": [],
      "include_colab_link": true
    },
    "kernelspec": {
      "name": "python3",
      "display_name": "Python 3"
    },
    "language_info": {
      "name": "python"
    }
  },
  "cells": [
    {
      "cell_type": "markdown",
      "metadata": {
        "id": "view-in-github",
        "colab_type": "text"
      },
      "source": [
        "<a href=\"https://colab.research.google.com/github/kcopp-crypto/Python/blob/main/NVDA_%26_AMD_DATA_342_Fall_2025_Lab_1_Desc_Statistics.ipynb\" target=\"_parent\"><img src=\"https://colab.research.google.com/assets/colab-badge.svg\" alt=\"Open In Colab\"/></a>"
      ]
    },
    {
      "cell_type": "markdown",
      "source": [
        "\n",
        "**Lab 1**: Using Descriptive Statistics to Evaluate Daily Returns between Walmart and Costco\n",
        "\n"
      ],
      "metadata": {
        "id": "SLepRszfpiU2"
      }
    },
    {
      "cell_type": "markdown",
      "source": [
        "Step 1: Mount Google Drive"
      ],
      "metadata": {
        "id": "0WsRVyhmY2KP"
      }
    },
    {
      "cell_type": "code",
      "source": [
        "from google.colab import drive\n",
        "drive.mount('/content/drive')\n"
      ],
      "metadata": {
        "colab": {
          "base_uri": "https://localhost:8080/"
        },
        "id": "E2bqfobfYx2E",
        "outputId": "1ad221b8-29e4-4153-9d34-98bb51f8cd33"
      },
      "execution_count": null,
      "outputs": [
        {
          "output_type": "stream",
          "name": "stdout",
          "text": [
            "Mounted at /content/drive\n"
          ]
        }
      ]
    },
    {
      "cell_type": "markdown",
      "source": [
        "Step 2: Install Required Libraries"
      ],
      "metadata": {
        "id": "5GpRC7_7Y5J3"
      }
    },
    {
      "cell_type": "code",
      "source": [
        "!pip install openpyxl matplotlib pandas"
      ],
      "metadata": {
        "colab": {
          "base_uri": "https://localhost:8080/"
        },
        "id": "H2ZAjqdZY9Dg",
        "outputId": "d0f30d54-1bd2-46f8-b630-2faf134858ff"
      },
      "execution_count": 1,
      "outputs": [
        {
          "output_type": "stream",
          "name": "stdout",
          "text": [
            "Requirement already satisfied: openpyxl in /usr/local/lib/python3.12/dist-packages (3.1.5)\n",
            "Requirement already satisfied: matplotlib in /usr/local/lib/python3.12/dist-packages (3.10.0)\n",
            "Requirement already satisfied: pandas in /usr/local/lib/python3.12/dist-packages (2.2.2)\n",
            "Requirement already satisfied: et-xmlfile in /usr/local/lib/python3.12/dist-packages (from openpyxl) (2.0.0)\n",
            "Requirement already satisfied: contourpy>=1.0.1 in /usr/local/lib/python3.12/dist-packages (from matplotlib) (1.3.3)\n",
            "Requirement already satisfied: cycler>=0.10 in /usr/local/lib/python3.12/dist-packages (from matplotlib) (0.12.1)\n",
            "Requirement already satisfied: fonttools>=4.22.0 in /usr/local/lib/python3.12/dist-packages (from matplotlib) (4.60.1)\n",
            "Requirement already satisfied: kiwisolver>=1.3.1 in /usr/local/lib/python3.12/dist-packages (from matplotlib) (1.4.9)\n",
            "Requirement already satisfied: numpy>=1.23 in /usr/local/lib/python3.12/dist-packages (from matplotlib) (2.0.2)\n",
            "Requirement already satisfied: packaging>=20.0 in /usr/local/lib/python3.12/dist-packages (from matplotlib) (25.0)\n",
            "Requirement already satisfied: pillow>=8 in /usr/local/lib/python3.12/dist-packages (from matplotlib) (11.3.0)\n",
            "Requirement already satisfied: pyparsing>=2.3.1 in /usr/local/lib/python3.12/dist-packages (from matplotlib) (3.2.5)\n",
            "Requirement already satisfied: python-dateutil>=2.7 in /usr/local/lib/python3.12/dist-packages (from matplotlib) (2.9.0.post0)\n",
            "Requirement already satisfied: pytz>=2020.1 in /usr/local/lib/python3.12/dist-packages (from pandas) (2025.2)\n",
            "Requirement already satisfied: tzdata>=2022.7 in /usr/local/lib/python3.12/dist-packages (from pandas) (2025.2)\n",
            "Requirement already satisfied: six>=1.5 in /usr/local/lib/python3.12/dist-packages (from python-dateutil>=2.7->matplotlib) (1.17.0)\n"
          ]
        }
      ]
    },
    {
      "cell_type": "markdown",
      "source": [
        "Step 3: Import Libraries"
      ],
      "metadata": {
        "id": "1T0XYF0hZAmH"
      }
    },
    {
      "cell_type": "code",
      "source": [
        "import pandas as pd\n",
        "import matplotlib.pyplot as plt"
      ],
      "metadata": {
        "id": "ll1a2RWJZEkD"
      },
      "execution_count": 2,
      "outputs": []
    },
    {
      "cell_type": "markdown",
      "source": [
        "Step 4: Load the Excel File\n"
      ],
      "metadata": {
        "id": "fbSr4ImFZIhn"
      }
    },
    {
      "cell_type": "code",
      "source": [
        "import requests\n",
        "import pandas as pd\n",
        "\n",
        "file_id = '10UHOG_LRvrZj_gTzOGZa37Mrgxkd2SY7'\n",
        "url = f'https://docs.google.com/spreadsheets/d/{file_id}/export?format=xlsx'\n",
        "response = requests.get(url)\n",
        "\n",
        "if response.status_code == 200:\n",
        "    with open('Lab 1 - NVIDIA - AMD.xlsx', 'wb') as f:\n",
        "        f.write(response.content)\n",
        "    df = pd.read_excel('Lab 1 - NVIDIA - AMD.xlsx', sheet_name='Daily Returns 2024', engine='openpyxl')\n",
        "else:\n",
        "    print(f\"Error downloading file: {response.status_code}\")"
      ],
      "metadata": {
        "id": "5j_aKYHiZK4P"
      },
      "execution_count": null,
      "outputs": []
    },
    {
      "cell_type": "markdown",
      "source": [
        "Step 5: Display Sample Rows"
      ],
      "metadata": {
        "id": "Wj-Ql8eVZN3F"
      }
    },
    {
      "cell_type": "code",
      "source": [
        "print(\"Sample rows from the dataset:\")\n",
        "print(df.head())"
      ],
      "metadata": {
        "colab": {
          "base_uri": "https://localhost:8080/"
        },
        "id": "V2NxBsZ6ZRBK",
        "outputId": "e99bc4a7-a0b3-4ad0-9ae9-92ca857a697c"
      },
      "execution_count": null,
      "outputs": [
        {
          "output_type": "stream",
          "name": "stdout",
          "text": [
            "Sample rows from the dataset:\n",
            "        Date Ticker  Adj Close   Daily Return\n",
            "0 2024-01-02   NVDA       48.14           NaN\n",
            "1 2024-01-03   NVDA       47.55     -0.012256\n",
            "2 2024-01-04   NVDA       47.97      0.008833\n",
            "3 2024-01-05   NVDA       49.07      0.022931\n",
            "4 2024-01-08   NVDA       52.23      0.064398\n"
          ]
        }
      ]
    },
    {
      "cell_type": "markdown",
      "source": [
        "Step 6: Clean and Format the Data\n"
      ],
      "metadata": {
        "id": "zn6nw3UkZWjc"
      }
    },
    {
      "cell_type": "code",
      "source": [
        "df['Date'] = pd.to_datetime(df['Date'])\n",
        "df = df.dropna(subset=['Daily Return'])  # Remove rows with missing returns"
      ],
      "metadata": {
        "id": "rJRNScULZbJK"
      },
      "execution_count": null,
      "outputs": []
    },
    {
      "cell_type": "markdown",
      "source": [
        "Step 7: Separate Walmart and COST Data"
      ],
      "metadata": {
        "id": "a4wdo2PWZg8d"
      }
    },
    {
      "cell_type": "code",
      "source": [
        "nvda_df = df[df['Ticker'] == 'NVDA'].copy()\n",
        "amda_df = df[df['Ticker'] == 'AMD'].copy()"
      ],
      "metadata": {
        "id": "7i2RaLTDZrNR"
      },
      "execution_count": null,
      "outputs": []
    },
    {
      "cell_type": "markdown",
      "source": [
        "Step 8: Display Sample Rows"
      ],
      "metadata": {
        "id": "E_7tOa6dZsQv"
      }
    },
    {
      "cell_type": "code",
      "source": [
        "print(\"\\nNvidia Daily Returns:\")\n",
        "print(nvda_df[['Date', 'Adj Close\\xa0', 'Daily Return']].head())\n",
        "\n",
        "print(\"\\nAMD Daily Returns:\")\n",
        "print(amd_df[['Date', 'Adj Close\\xa0', 'Daily Return']].head())"
      ],
      "metadata": {
        "colab": {
          "base_uri": "https://localhost:8080/"
        },
        "id": "QIGtZGqYZwi1",
        "outputId": "838910ef-a69a-4e04-ff72-3b1446675d4b"
      },
      "execution_count": null,
      "outputs": [
        {
          "output_type": "stream",
          "name": "stdout",
          "text": [
            "\n",
            "Nvidia Daily Returns:\n",
            "        Date  Adj Close   Daily Return\n",
            "1 2024-01-03       47.55     -0.012256\n",
            "2 2024-01-04       47.97      0.008833\n",
            "3 2024-01-05       49.07      0.022931\n",
            "4 2024-01-08       52.23      0.064398\n",
            "5 2024-01-09       53.11      0.016849\n",
            "\n",
            "AMD Daily Returns:\n",
            "          Date  Adj Close   Daily Return\n",
            "252 2024-01-03      135.32     -0.023524\n",
            "253 2024-01-04      136.01      0.005099\n",
            "254 2024-01-05      138.58      0.018896\n",
            "255 2024-01-08      146.18      0.054842\n",
            "256 2024-01-09      149.26      0.021070\n"
          ]
        }
      ]
    },
    {
      "cell_type": "markdown",
      "source": [
        "Step 9: Visualize Daily Returns with Box and Whisker Plots"
      ],
      "metadata": {
        "id": "XCyPiXZxZy79"
      }
    },
    {
      "cell_type": "code",
      "source": [
        "plt.figure(figsize=(10, 6))\n",
        "plt.boxplot([nvda_df['Daily Return'], amd_df['Daily Return']], labels=['Nvidia', 'AMD'])\n",
        "plt.title('Box-and-Whisker Plot of Daily Returns')\n",
        "plt.ylabel('Daily Return')\n",
        "plt.grid(True)\n",
        "plt.show()"
      ],
      "metadata": {
        "colab": {
          "base_uri": "https://localhost:8080/",
          "height": 582
        },
        "id": "iMFnnNVsZ2Of",
        "outputId": "362d13d5-2f4b-4e46-830a-1ac51bfe32f6"
      },
      "execution_count": null,
      "outputs": [
        {
          "output_type": "stream",
          "name": "stderr",
          "text": [
            "/tmp/ipython-input-2002635240.py:2: MatplotlibDeprecationWarning: The 'labels' parameter of boxplot() has been renamed 'tick_labels' since Matplotlib 3.9; support for the old name will be dropped in 3.11.\n",
            "  plt.boxplot([nvda_df['Daily Return'], amd_df['Daily Return']], labels=['Nvidia', 'AMD'])\n"
          ]
        },
        {
          "output_type": "display_data",
          "data": {
            "text/plain": [
              "<Figure size 1000x600 with 1 Axes>"
            ],
            "image/png": "[encoded data removed]"
          },
          "metadata": {}
        }
      ]
    },
    {
      "cell_type": "markdown",
      "source": [
        "**Next Steps**\n",
        "\n",
        "Once you have successfully run your code in Google Colab for your selected companies, take screenshots that show both your code and the output. After that, adjust your code for it to run in  Python on your local machine.\n",
        "\n",
        "**Note**: Review the provided python file DATA_342_Fall_2025_Lab_1_idle_ready.py"
      ],
      "metadata": {
        "id": "ZmcsSyccOCDW"
      }
    }
  ]
}