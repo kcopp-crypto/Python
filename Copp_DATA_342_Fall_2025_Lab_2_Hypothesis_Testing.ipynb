{
  "nbformat": 4,
  "nbformat_minor": 0,
  "metadata": {
    "colab": {
      "provenance": [],
      "include_colab_link": true
    },
    "kernelspec": {
      "name": "python3",
      "display_name": "Python 3"
    },
    "language_info": {
      "name": "python"
    }
  },
  "cells": [
    {
      "cell_type": "markdown",
      "metadata": {
        "id": "view-in-github",
        "colab_type": "text"
      },
      "source": [
        "<a href=\"https://colab.research.google.com/github/kcopp-crypto/Python/blob/main/Copp_DATA_342_Fall_2025_Lab_2_Hypothesis_Testing.ipynb\" target=\"_parent\"><img src=\"https://colab.research.google.com/assets/colab-badge.svg\" alt=\"Open In Colab\"/></a>"
      ]
    },
    {
      "cell_type": "markdown",
      "source": [
        "\n",
        "**Lab 1 and 2**: Using Descriptive Statistics and Hypothesis Testing to Evaluate Daily Returns between Nvidia and AMD\n",
        "\n"
      ],
      "metadata": {
        "id": "SLepRszfpiU2"
      }
    },
    {
      "cell_type": "markdown",
      "source": [
        "Step 1: Mount Google Drive"
      ],
      "metadata": {
        "id": "0WsRVyhmY2KP"
      }
    },
    {
      "cell_type": "code",
      "source": [
        "from google.colab import drive\n",
        "drive.mount('/content/drive')\n"
      ],
      "metadata": {
        "colab": {
          "base_uri": "https://localhost:8080/"
        },
        "id": "E2bqfobfYx2E",
        "outputId": "bf2eb3f1-3751-418c-c5eb-26bedd93c0f9"
      },
      "execution_count": null,
      "outputs": [
        {
          "output_type": "stream",
          "name": "stdout",
          "text": [
            "Mounted at /content/drive\n"
          ]
        }
      ]
    },
    {
      "cell_type": "markdown",
      "source": [
        "Step 2: Install Required Libraries"
      ],
      "metadata": {
        "id": "5GpRC7_7Y5J3"
      }
    },
    {
      "cell_type": "code",
      "source": [
        "!pip install openpyxl matplotlib pandas"
      ],
      "metadata": {
        "colab": {
          "base_uri": "https://localhost:8080/"
        },
        "id": "H2ZAjqdZY9Dg",
        "outputId": "f148b5ab-a360-464f-938d-26682e66e178"
      },
      "execution_count": null,
      "outputs": [
        {
          "output_type": "stream",
          "name": "stdout",
          "text": [
            "Requirement already satisfied: openpyxl in /usr/local/lib/python3.12/dist-packages (3.1.5)\n",
            "Requirement already satisfied: matplotlib in /usr/local/lib/python3.12/dist-packages (3.10.0)\n",
            "Requirement already satisfied: pandas in /usr/local/lib/python3.12/dist-packages (2.2.2)\n",
            "Requirement already satisfied: et-xmlfile in /usr/local/lib/python3.12/dist-packages (from openpyxl) (2.0.0)\n",
            "Requirement already satisfied: contourpy>=1.0.1 in /usr/local/lib/python3.12/dist-packages (from matplotlib) (1.3.3)\n",
            "Requirement already satisfied: cycler>=0.10 in /usr/local/lib/python3.12/dist-packages (from matplotlib) (0.12.1)\n",
            "Requirement already satisfied: fonttools>=4.22.0 in /usr/local/lib/python3.12/dist-packages (from matplotlib) (4.60.1)\n",
            "Requirement already satisfied: kiwisolver>=1.3.1 in /usr/local/lib/python3.12/dist-packages (from matplotlib) (1.4.9)\n",
            "Requirement already satisfied: numpy>=1.23 in /usr/local/lib/python3.12/dist-packages (from matplotlib) (2.0.2)\n",
            "Requirement already satisfied: packaging>=20.0 in /usr/local/lib/python3.12/dist-packages (from matplotlib) (25.0)\n",
            "Requirement already satisfied: pillow>=8 in /usr/local/lib/python3.12/dist-packages (from matplotlib) (11.3.0)\n",
            "Requirement already satisfied: pyparsing>=2.3.1 in /usr/local/lib/python3.12/dist-packages (from matplotlib) (3.2.5)\n",
            "Requirement already satisfied: python-dateutil>=2.7 in /usr/local/lib/python3.12/dist-packages (from matplotlib) (2.9.0.post0)\n",
            "Requirement already satisfied: pytz>=2020.1 in /usr/local/lib/python3.12/dist-packages (from pandas) (2025.2)\n",
            "Requirement already satisfied: tzdata>=2022.7 in /usr/local/lib/python3.12/dist-packages (from pandas) (2025.2)\n",
            "Requirement already satisfied: six>=1.5 in /usr/local/lib/python3.12/dist-packages (from python-dateutil>=2.7->matplotlib) (1.17.0)\n"
          ]
        }
      ]
    },
    {
      "cell_type": "markdown",
      "source": [
        "Step 3: Import Libraries"
      ],
      "metadata": {
        "id": "1T0XYF0hZAmH"
      }
    },
    {
      "cell_type": "code",
      "source": [
        "import pandas as pd\n",
        "import matplotlib.pyplot as plt"
      ],
      "metadata": {
        "id": "ll1a2RWJZEkD"
      },
      "execution_count": null,
      "outputs": []
    },
    {
      "cell_type": "markdown",
      "source": [
        "Step 4: Load the Excel File\n"
      ],
      "metadata": {
        "id": "fbSr4ImFZIhn"
      }
    },
    {
      "cell_type": "code",
      "source": [
        "import requests\n",
        "import pandas as pd\n",
        "\n",
        "file_id = '10UHOG_LRvrZj_gTzOGZa37Mrgxkd2SY7'\n",
        "url = f'https://docs.google.com/spreadsheets/d/{file_id}/export?format=xlsx'\n",
        "response = requests.get(url)\n",
        "\n",
        "if response.status_code == 200:\n",
        "    with open('Lab 1 - NVIDIA - AMD.xlsx', 'wb') as f:\n",
        "        f.write(response.content)\n",
        "    df = pd.read_excel('Lab 1 - NVIDIA - AMD.xlsx', sheet_name='Daily Returns 2024', engine='openpyxl')\n",
        "else:\n",
        "    print(f\"Error downloading file: {response.status_code}\")"
      ],
      "metadata": {
        "id": "5j_aKYHiZK4P"
      },
      "execution_count": null,
      "outputs": []
    },
    {
      "cell_type": "markdown",
      "source": [
        "Step 5: Display Sample Rows"
      ],
      "metadata": {
        "id": "Wj-Ql8eVZN3F"
      }
    },
    {
      "cell_type": "code",
      "source": [
        "print(\"Sample rows from the dataset:\")\n",
        "print(df.head())"
      ],
      "metadata": {
        "colab": {
          "base_uri": "https://localhost:8080/"
        },
        "id": "V2NxBsZ6ZRBK",
        "outputId": "454b3518-b54b-41a2-fcbe-70a472d58b4b"
      },
      "execution_count": null,
      "outputs": [
        {
          "output_type": "stream",
          "name": "stdout",
          "text": [
            "Sample rows from the dataset:\n",
            "        Date Ticker  Adj Close  Daily Return\n",
            "0 2024-01-02   NVDA      48.14           NaN\n",
            "1 2024-01-03   NVDA      47.55     -0.012256\n",
            "2 2024-01-04   NVDA      47.97      0.008833\n",
            "3 2024-01-05   NVDA      49.07      0.022931\n",
            "4 2024-01-08   NVDA      52.23      0.064398\n"
          ]
        }
      ]
    },
    {
      "cell_type": "markdown",
      "source": [
        "Step 6: Clean and Format the Data\n"
      ],
      "metadata": {
        "id": "zn6nw3UkZWjc"
      }
    },
    {
      "cell_type": "code",
      "source": [
        "df['Date'] = pd.to_datetime(df['Date'])\n",
        "df = df.dropna(subset=['Daily Return'])  # Remove rows with missing returns"
      ],
      "metadata": {
        "id": "rJRNScULZbJK"
      },
      "execution_count": null,
      "outputs": []
    },
    {
      "cell_type": "markdown",
      "source": [
        "Step 7: Separate Walmart and COST Data"
      ],
      "metadata": {
        "id": "a4wdo2PWZg8d"
      }
    },
    {
      "cell_type": "code",
      "source": [
        "nvda_df = df[df['Ticker'] == 'NVDA'].copy()\n",
        "amd_df = df[df['Ticker'] == 'AMD'].copy()"
      ],
      "metadata": {
        "id": "7i2RaLTDZrNR"
      },
      "execution_count": null,
      "outputs": []
    },
    {
      "cell_type": "markdown",
      "source": [
        "Step 8: Display Sample Rows"
      ],
      "metadata": {
        "id": "E_7tOa6dZsQv"
      }
    },
    {
      "cell_type": "code",
      "source": [
        "print(\"\\nNvidia Daily Returns:\")\n",
        "print(nvda_df[['Date', 'Adj Close', 'Daily Return']].head())\n",
        "\n",
        "print(\"\\nAMD Daily Returns:\")\n",
        "print(amd_df[['Date', 'Adj Close', 'Daily Return']].head())"
      ],
      "metadata": {
        "colab": {
          "base_uri": "https://localhost:8080/"
        },
        "id": "QIGtZGqYZwi1",
        "outputId": "e93e9adb-f797-4bff-cb47-1a1295fa86df"
      },
      "execution_count": null,
      "outputs": [
        {
          "output_type": "stream",
          "name": "stdout",
          "text": [
            "\n",
            "Nvidia Daily Returns:\n",
            "        Date  Adj Close  Daily Return\n",
            "1 2024-01-03      47.55     -0.012256\n",
            "2 2024-01-04      47.97      0.008833\n",
            "3 2024-01-05      49.07      0.022931\n",
            "4 2024-01-08      52.23      0.064398\n",
            "5 2024-01-09      53.11      0.016849\n",
            "\n",
            "AMD Daily Returns:\n",
            "          Date  Adj Close  Daily Return\n",
            "252 2024-01-03     135.32     -0.023524\n",
            "253 2024-01-04     136.01      0.005099\n",
            "254 2024-01-05     138.58      0.018896\n",
            "255 2024-01-08     146.18      0.054842\n",
            "256 2024-01-09     149.26      0.021070\n"
          ]
        }
      ]
    },
    {
      "cell_type": "markdown",
      "source": [
        "Step 9: Visualize Daily Returns with Box and Whisker Plots"
      ],
      "metadata": {
        "id": "XCyPiXZxZy79"
      }
    },
    {
      "cell_type": "code",
      "source": [
        "plt.figure(figsize=(10, 6))\n",
        "plt.boxplot([nvda_df['Daily Return'], amd_df['Daily Return']], tick_labels=['Nvidia', 'AMD'])\n",
        "plt.title('Box-and-Whisker Plot of Daily Returns')\n",
        "plt.ylabel('Daily Return')\n",
        "plt.grid(True)\n",
        "plt.ylim(-0.08, 0.08) # Set the y-axis limits\n",
        "plt.show()"
      ],
      "metadata": {
        "colab": {
          "base_uri": "https://localhost:8080/",
          "height": 545
        },
        "id": "iMFnnNVsZ2Of",
        "outputId": "aa75266b-d9ad-4918-b284-42a0804b7fd0"
      },
      "execution_count": null,
      "outputs": [
        {
          "output_type": "display_data",
          "data": {
            "text/plain": [
              "<Figure size 1000x600 with 1 Axes>"
            ],
            "image/png": "[encoded data removed]"
          },
          "metadata": {}
        }
      ]
    },
    {
      "cell_type": "markdown",
      "metadata": {
        "id": "4235420e"
      },
      "source": [
        "Step 10: Descriptive Statistics"
      ]
    },
    {
      "cell_type": "code",
      "metadata": {
        "colab": {
          "base_uri": "https://localhost:8080/"
        },
        "id": "d11e026a",
        "outputId": "ebded08e-0f42-40c4-f991-cbd525c870d7"
      },
      "source": [
        "from scipy import stats\n",
        "\n",
        "def descriptive_stats(series):\n",
        "    return {\n",
        "        'Mean': series.mean(),\n",
        "        'Median': series.median(),\n",
        "        'Mode': series.mode().iloc[0] if not series.mode().empty else None,\n",
        "        'Standard Deviation': series.std(),\n",
        "        'Sample Variance': series.var(),\n",
        "        'Kurtosis': series.kurtosis(),\n",
        "        'Skewness': series.skew(),\n",
        "        'Range': series.max() - series.min(),\n",
        "        'Minimum': series.min(),\n",
        "        'Maximum': series.max()\n",
        "    }\n",
        "\n",
        "# Compute descriptive statistics\n",
        "nvda_stats = descriptive_stats(nvda_df['Daily Return'])\n",
        "amd_stats = descriptive_stats(amd_df['Daily Return'])\n",
        "\n",
        "print(\"Descriptive Statistics for Nvidia (NVDA):\")\n",
        "for key, value in nvda_stats.items():\n",
        "    print(f\"{key}: {value}\")\n",
        "\n",
        "print(\"\\nDescriptive Statistics for AMD (AMD):\")\n",
        "for key, value in amd_stats.items():\n",
        "    print(f\"{key}: {value}\")"
      ],
      "execution_count": null,
      "outputs": [
        {
          "output_type": "stream",
          "name": "stdout",
          "text": [
            "Descriptive Statistics for Nvidia (NVDA):\n",
            "Mean: 0.004745599674614864\n",
            "Median: 0.004089030173930808\n",
            "Mode: -0.09996455157745476\n",
            "Standard Deviation: 0.03309701615955455\n",
            "Sample Variance: 0.001095412478665815\n",
            "Kurtosis: 2.6618366840596033\n",
            "Skewness: 0.3771186063815153\n",
            "Range: 0.26396217909821407\n",
            "Minimum: -0.09996455157745476\n",
            "Maximum: 0.1639976275207593\n",
            "\n",
            "Descriptive Statistics for AMD (AMD):\n",
            "Mean: -4.359360215598551e-05\n",
            "Median: -0.0015764567711795685\n",
            "Mode: -0.10616541353383457\n",
            "Standard Deviation: 0.030032739901218877\n",
            "Sample Variance: 0.0009019654659742645\n",
            "Kurtosis: 1.7292209844785433\n",
            "Skewness: -0.1721381660442175\n",
            "Range: 0.21311044975028115\n",
            "Minimum: -0.10616541353383457\n",
            "Maximum: 0.10694503621644658\n"
          ]
        }
      ]
    },
    {
      "cell_type": "markdown",
      "source": [
        "Step 10: Descriptive Statistics"
      ],
      "metadata": {
        "id": "_1WyVh200ZpD"
      }
    },
    {
      "cell_type": "code",
      "source": [
        "\n",
        "from scipy import stats\n",
        "\n",
        "def descriptive_stats(series):\n",
        "    return {\n",
        "        'Mean': series.mean(),\n",
        "        'Median': series.median(),\n",
        "        'Mode': series.mode().iloc[0] if not series.mode().empty else None,\n",
        "        'Standard Deviation': series.std(),\n",
        "        'Sample Variance': series.var(),\n",
        "        'Kurtosis': series.kurtosis(),\n",
        "        'Skewness': series.skew(),\n",
        "        'Range': series.max() - series.min(),\n",
        "        'Minimum': series.min(),\n",
        "        'Maximum': series.max()\n",
        "    }\n",
        "\n",
        "# Compute descriptive statistics\n",
        "nvda_stats = descriptive_stats(nvda_df['Daily Return'])\n",
        "amd_stats = descriptive_stats(amd_df['Daily Return'])\n",
        "\n",
        "print(\"Descriptive Statistics for Nvidia (NVDA):\")\n",
        "for key, value in nvda_stats.items():\n",
        "    print(f\"{key}: {value}\")\n",
        "\n",
        "print(\"\\nDescriptive Statistics for AMD (AMD):\")\n",
        "for key, value in amd_stats.items():\n",
        "    print(f\"{key}: {value}\")\n"
      ],
      "metadata": {
        "colab": {
          "base_uri": "https://localhost:8080/"
        },
        "id": "o8ec0N4a0Z5e",
        "outputId": "c1520052-d02f-41b3-a177-61a6ddef5edf"
      },
      "execution_count": null,
      "outputs": [
        {
          "output_type": "stream",
          "name": "stdout",
          "text": [
            "Descriptive Statistics for Nvidia (NVDA):\n",
            "Mean: 0.004745599674614864\n",
            "Median: 0.004089030173930808\n",
            "Mode: -0.09996455157745476\n",
            "Standard Deviation: 0.03309701615955455\n",
            "Sample Variance: 0.001095412478665815\n",
            "Kurtosis: 2.6618366840596033\n",
            "Skewness: 0.3771186063815153\n",
            "Range: 0.26396217909821407\n",
            "Minimum: -0.09996455157745476\n",
            "Maximum: 0.1639976275207593\n",
            "\n",
            "Descriptive Statistics for AMD (AMD):\n",
            "Mean: -4.359360215598551e-05\n",
            "Median: -0.0015764567711795685\n",
            "Mode: -0.10616541353383457\n",
            "Standard Deviation: 0.030032739901218877\n",
            "Sample Variance: 0.0009019654659742645\n",
            "Kurtosis: 1.7292209844785433\n",
            "Skewness: -0.1721381660442175\n",
            "Range: 0.21311044975028115\n",
            "Minimum: -0.10616541353383457\n",
            "Maximum: 0.10694503621644658\n"
          ]
        }
      ]
    },
    {
      "cell_type": "markdown",
      "source": [
        "Step 11: Hypothesis Testing"
      ],
      "metadata": {
        "id": "SRZOIeKg0a8c"
      }
    },
    {
      "cell_type": "code",
      "source": [
        "# Hypothesis Testing: Independent t-test\n",
        "t_stat, p_value = stats.ttest_ind(nvda_df['Daily Return'], amd_df['Daily Return'], equal_var=False)\n",
        "print(\"\\nHypothesis Testing (Independent t-test):\")\n",
        "print(f\"T-statistic: {t_stat}\")\n",
        "print(f\"P-value: {p_value}\")"
      ],
      "metadata": {
        "colab": {
          "base_uri": "https://localhost:8080/"
        },
        "id": "nwENidSg0bP_",
        "outputId": "1fc88d0d-3607-4deb-a746-31f3368843f5"
      },
      "execution_count": null,
      "outputs": [
        {
          "output_type": "stream",
          "name": "stdout",
          "text": [
            "\n",
            "Hypothesis Testing (Independent t-test):\n",
            "T-statistic: 1.6943465530919377\n",
            "P-value: 0.09083052513517866\n"
          ]
        }
      ]
    },
    {
      "cell_type": "markdown",
      "source": [
        "Step 12: Bar Graph with Error Bars"
      ],
      "metadata": {
        "id": "gNO3IalU82K9"
      }
    },
    {
      "cell_type": "code",
      "source": [
        "import requests\n",
        "import pandas as pd\n",
        "import matplotlib.pyplot as plt\n",
        "from scipy import stats\n",
        "\n",
        "# Load the Excel file\n",
        "file_id = '10UHOG_LRvrZj_gTzOGZa37Mrgxkd2SY7'\n",
        "url = f'https://docs.google.com/spreadsheets/d/{file_id}/export?format=xlsx'\n",
        "response = requests.get(url)\n",
        "\n",
        "if response.status_code == 200:\n",
        "    with open('/content/DATA Lab 1 - NVIDIA - AMD.xlsx', 'wb') as f:\n",
        "        f.write(response.content)\n",
        "    df = pd.read_excel('/content/DATA Lab 1 - NVIDIA - AMD.xlsx', sheet_name='Daily Returns 2024', engine='openpyxl')\n",
        "else:\n",
        "    print(f\"Error downloading file: {response.status_code}\")\n",
        "\n",
        "\n",
        "# Clean and format the data\n",
        "df['Date'] = pd.to_datetime(df['Date'])\n",
        "df = df.dropna(subset=['Daily Return'])  # Remove rows with missing returns\n",
        "\n",
        "# Separate Nvidia and AMD Data\n",
        "nvda_df = df[df['Ticker'] == 'NVDA'].copy()\n",
        "amd_df = df[df['Ticker'] == 'AMD'].copy()\n",
        "\n",
        "# Hypothesis Testing: Independent t-test\n",
        "t_stat, p_value = stats.ttest_ind(nvda_df['Daily Return'], amd_df['Daily Return'], equal_var=False)\n",
        "\n",
        "# Create bar plot with error bars\n",
        "means = [nvda_df['Daily Return'].mean(), amd_df['Daily Return'].mean()]\n",
        "errors = [nvda_df['Daily Return'].std(), amd_df['Daily Return'].std()]\n",
        "labels = ['Nvidia', 'AMD']\n",
        "colors = ['skyblue', 'lightgreen']\n",
        "\n",
        "plt.figure(figsize=(8, 6))\n",
        "bars = plt.bar(labels, means, yerr=errors, capsize=10, color=colors)\n",
        "\n",
        "# Add asterisk if p-value < 0.05\n",
        "if p_value < 0.05:\n",
        "    max_height = max(means)\n",
        "    y = max_height + max(errors) + 0.005\n",
        "    plt.plot([0, 1], [y, y], color='black')\n",
        "    plt.text(0.5, y + 0.002, '*', ha='center', va='bottom', fontsize=20)\n",
        "\n",
        "# Customize plot\n",
        "plt.title('Mean Daily Returns with Error Bars (Std Dev)')\n",
        "plt.ylabel('Mean Daily Return')\n",
        "plt.grid(axis='y', linestyle='--', alpha=0.7)\n",
        "plt.tight_layout()\n",
        "plt.show()"
      ],
      "metadata": {
        "colab": {
          "base_uri": "https://localhost:8080/",
          "height": 607
        },
        "id": "al7m6GjC82eD",
        "outputId": "397585f7-ea94-427a-94be-6268822853b6"
      },
      "execution_count": null,
      "outputs": [
        {
          "output_type": "display_data",
          "data": {
            "text/plain": [
              "<Figure size 800x600 with 1 Axes>"
            ],
            "image/png": "[encoded data removed]"
          },
          "metadata": {}
        }
      ]
    },
    {
      "cell_type": "markdown",
      "source": [
        "**Interpretation**:\n",
        "\n",
        "The p-value > 0.05, so we fail to reject the null hypothesis.\n",
        "\n",
        "This means there is no statistically significant difference in the average daily returns between Nvidia and AMD based on this dataset."
      ],
      "metadata": {
        "id": "IQVGqp4-1Cc0"
      }
    },
    {
      "cell_type": "code",
      "source": [],
      "metadata": {
        "id": "WwHYPADDaIHl"
      },
      "execution_count": null,
      "outputs": []
    },
    {
      "cell_type": "markdown",
      "source": [],
      "metadata": {
        "id": "TpsTgt_uaAzv"
      }
    }
  ]
}